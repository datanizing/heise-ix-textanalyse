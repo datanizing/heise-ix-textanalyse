{
 "cells": [
  {
   "cell_type": "markdown",
   "metadata": {
    "id": "uWnQu073lIH3"
   },
   "source": [
    "# Text Generation"
   ]
  },
  {
   "cell_type": "markdown",
   "metadata": {
    "id": "eCoFgwsdlIH-"
   },
   "source": [
    "Zum Abschluss des Trainings schaust du dir jetzt noch an, wie ein Algorithmus Texte selbst erzeugen kann. Das ist ziemlich überraschend, allerdings sind die Anwendungsmöglichkeiten im Vergleich zu der Textanalyse etwas eingeschränkt. Ab und zu ergeben jedoch auch ziemlich lustige Resultate und vielleicht hast du ja genau dafür einen Anwendungsfall!"
   ]
  },
  {
   "cell_type": "markdown",
   "metadata": {
    "id": "hUE8AEdflIH_"
   },
   "source": [
    "## Text Generation"
   ]
  },
  {
   "cell_type": "markdown",
   "metadata": {
    "id": "Lhn4oLVolIIA"
   },
   "source": [
    "Auch wenn ein riesiges Modell hinter der Texterzeugung steht, ist der Aufruf geradezu grotesk einfach:"
   ]
  },
  {
   "cell_type": "code",
   "execution_count": 1,
   "metadata": {
    "id": "il2Ay29flIIB"
   },
   "outputs": [
    {
     "name": "stdout",
     "output_type": "stream",
     "text": [
      "Requirement already satisfied: transformers in /home/cwinkler/.venv/jupyter-new/lib/python3.8/site-packages (4.7.0)\n",
      "Requirement already satisfied: huggingface-hub==0.0.8 in /home/cwinkler/.venv/jupyter-new/lib/python3.8/site-packages (from transformers) (0.0.8)\n",
      "Requirement already satisfied: regex!=2019.12.17 in /home/cwinkler/.venv/jupyter-new/lib/python3.8/site-packages (from transformers) (2021.4.4)\n",
      "Requirement already satisfied: tqdm>=4.27 in /home/cwinkler/.venv/jupyter-new/lib/python3.8/site-packages (from transformers) (4.60.0)\n",
      "Requirement already satisfied: packaging in /home/cwinkler/.venv/jupyter-new/lib/python3.8/site-packages (from transformers) (20.9)\n",
      "Requirement already satisfied: filelock in /home/cwinkler/.venv/jupyter-new/lib/python3.8/site-packages (from transformers) (3.0.12)\n",
      "Requirement already satisfied: tokenizers<0.11,>=0.10.1 in /home/cwinkler/.venv/jupyter-new/lib/python3.8/site-packages (from transformers) (0.10.3)\n",
      "Requirement already satisfied: pyyaml in /home/cwinkler/.venv/jupyter-new/lib/python3.8/site-packages (from transformers) (5.4.1)\n",
      "Requirement already satisfied: sacremoses in /home/cwinkler/.venv/jupyter-new/lib/python3.8/site-packages (from transformers) (0.0.45)\n",
      "Requirement already satisfied: numpy>=1.17 in /home/cwinkler/.venv/jupyter-new/lib/python3.8/site-packages (from transformers) (1.21.4)\n",
      "Requirement already satisfied: requests in /home/cwinkler/.venv/jupyter-new/lib/python3.8/site-packages (from transformers) (2.25.1)\n",
      "Requirement already satisfied: pyparsing>=2.0.2 in /home/cwinkler/.venv/jupyter-new/lib/python3.8/site-packages (from packaging->transformers) (2.4.7)\n",
      "Requirement already satisfied: joblib in /home/cwinkler/.venv/jupyter-new/lib/python3.8/site-packages (from sacremoses->transformers) (1.0.1)\n",
      "Requirement already satisfied: click in /home/cwinkler/.venv/jupyter-new/lib/python3.8/site-packages (from sacremoses->transformers) (7.1.2)\n",
      "Requirement already satisfied: six in /home/cwinkler/.venv/jupyter-new/lib/python3.8/site-packages (from sacremoses->transformers) (1.15.0)\n",
      "Requirement already satisfied: chardet<5,>=3.0.2 in /home/cwinkler/.venv/jupyter-new/lib/python3.8/site-packages (from requests->transformers) (4.0.0)\n",
      "Requirement already satisfied: idna<3,>=2.5 in /home/cwinkler/.venv/jupyter-new/lib/python3.8/site-packages (from requests->transformers) (2.10)\n",
      "Requirement already satisfied: certifi>=2017.4.17 in /home/cwinkler/.venv/jupyter-new/lib/python3.8/site-packages (from requests->transformers) (2020.12.5)\n",
      "Requirement already satisfied: urllib3<1.27,>=1.21.1 in /home/cwinkler/.venv/jupyter-new/lib/python3.8/site-packages (from requests->transformers) (1.25.4)\n"
     ]
    }
   ],
   "source": [
    "!pip install transformers"
   ]
  },
  {
   "cell_type": "code",
   "execution_count": 2,
   "metadata": {
    "id": "AKwvZyEQlIIC"
   },
   "outputs": [
    {
     "name": "stderr",
     "output_type": "stream",
     "text": [
      "Special tokens have been added in the vocabulary, make sure the associated word embeddings are fine-tuned or trained.\n"
     ]
    }
   ],
   "source": [
    "from transformers import pipeline\n",
    "\n",
    "model_name = \"dbmdz/german-gpt2\"\n",
    "#model_name = \"dbmdz/german-gpt2-faust\"\n",
    "pipe = pipeline('text-generation', model=model_name,\n",
    "                 tokenizer=model_name, device=0)"
   ]
  },
  {
   "cell_type": "markdown",
   "metadata": {
    "id": "IEgofIzalIID"
   },
   "source": [
    "Ähnlich wie bei BERT gibt es auch bei diesem Transfer-Learning sehr viele Zufallszahlengeneratoren, die du wegen der Reproduzierbarkeit der Ergebnisse alle einheitlich initialisierst:"
   ]
  },
  {
   "cell_type": "code",
   "execution_count": 3,
   "metadata": {
    "id": "_dUmcBzFlIIE"
   },
   "outputs": [],
   "source": [
    "import random\n",
    "import numpy as np\n",
    "import torch\n",
    "# alle Zufallszahlengeneratoren initialisieren (Reproduzierbarkeit)\n",
    "seed_val = 42\n",
    "random.seed(seed_val)\n",
    "np.random.seed(seed_val)\n",
    "torch.manual_seed(seed_val)\n",
    "torch.cuda.manual_seed_all(seed_val)"
   ]
  },
  {
   "cell_type": "markdown",
   "metadata": {
    "id": "7RkPph9flIIF"
   },
   "source": [
    "Du beginnst mit einem *sehr offenen Satz*:"
   ]
  },
  {
   "cell_type": "code",
   "execution_count": 4,
   "metadata": {
    "id": "TTZDuUmtlIIG"
   },
   "outputs": [
    {
     "name": "stderr",
     "output_type": "stream",
     "text": [
      "Setting `pad_token_id` to `eos_token_id`:50256 for open-end generation.\n"
     ]
    },
    {
     "name": "stdout",
     "output_type": "stream",
     "text": [
      "Der Sinn des Lebens ist es nach eigenem Empfinden, das eigene Leben zu lieben und zu erleben, es aber nicht den Wünschen der Gesellschaft zu beugen. Auch der Mensch muss das Leben mit Liebe, nicht den Wünschen eines anderen Menschen erleben. Liebe geht auch ohne die Liebe, es geht um das Zusammenleben auf der Basis von Harmonie, die sich durch Harmonie hervorruft.“ (Ridow, s. S. 768)\n",
      "Im Deutschen wurde der Begriff der „Glaube“ seit dem späten 16\n"
     ]
    }
   ],
   "source": [
    "text = pipe(\"Der Sinn des Lebens ist es\", max_length=100)[0][\"generated_text\"]\n",
    "\n",
    "print(text)"
   ]
  },
  {
   "cell_type": "markdown",
   "metadata": {
    "id": "QfZOw-aTlIIG"
   },
   "source": [
    "Der Text ist vielleicht nicht extrem sinnvoll, aber er hat die *Stimmung* des Anfangssatzes aufgenommen. Sehr interessant.\n",
    "\n",
    "Versuche es nun mit einem Satz, der *Spannung auslösen soll*:"
   ]
  },
  {
   "cell_type": "code",
   "execution_count": 5,
   "metadata": {
    "id": "d9WlmSGXlIIH"
   },
   "outputs": [
    {
     "name": "stderr",
     "output_type": "stream",
     "text": [
      "Setting `pad_token_id` to `eos_token_id`:50256 for open-end generation.\n"
     ]
    },
    {
     "name": "stdout",
     "output_type": "stream",
     "text": [
      "Plötzlich wachte ich auf und wusste: \"Gott, ich fühle mich schlecht\".\" Als wir noch einmal um die Ecke kamen, fand ich in einem Raum mit lauter Frauen unter ihnen etwas, das mich nicht zu interessieren schien.\n",
      "Das Problem sei, dass die Menschen viel zu selten einen Arzt aufsuchen, der nicht nur vor Ort und nach Absprache mit den Kollegen unterwegs sei, sagte der GKV-Vorstandsvorsitzende Holger Schnidt.\n",
      "Bei der Kontrolle des gestohlenen E-Bike-Anhängers stellten die Beamten diverse Mängel fest.\n",
      "Am 2. November 2017 hatte der Mann ein Zimmer im Dachgeschoss seines Hauses in Wien-Hietzing, der heute in einem Krankenhaus liegt, in dem der 14-Jährige bereits tot ist.\n",
      "Das sei \"total irre\".\n",
      "Doch das sind andere Leute.\n",
      "Der Mann war am 3. Oktober 2016 auf der Autobahn A14 nahe Schwerin in Richtung Leipzig unterwegs, als er in dem Waldstück an einer Straßenkreuzung mit seinem Pkw ins Schleudern geriet, die die Straße querte und quer über die Fahrbahn krachte.\n",
      "Die Grünen wiederum fordern ein stärkeres Engagement der Stadt in Sachen Mobilität.\n",
      "Und auch die Kinder bekamen die erste Rolle voll: Zwei Mädchen, die sich die Hände waschen, und eine Frau, die den Müll sauber machen musste.\n",
      "Das Geld fließt künftig in die Arbeit, der \"Trümmer-Sampler\" ist nur noch für eine begrenzte Zeit verfügbar.\n",
      "Der \"Fall Özil\" war die erste, als Deutschland im Weltfußball vor einem möglichen Scheitern stand.\n",
      "Auch das Thema Finanzen ist für Bürgermeister Norbert Mai ein Schwerpunkt.\n",
      "Wer sich zu den ersten vier GNTM-Finalistinnen durchgerungen hatte, konnte im Netz schnell auf die nächste Ausgabe aufmerksam werden: Eine große Anzahl Teilnehmer wurde für ihre Favoriten ausgewählt - darunter auch Kandidatinnen aus der Hauptstadt.\n",
      "Und als wären diese Fragen nicht schon genug, kommt auch noch der Besuch aus der Schweiz zur Sprache: Denn bei der diesjährigen Gala im Restaurant Lido auf der Piazza\n"
     ]
    }
   ],
   "source": [
    "text = pipe(\"Plötzlich wachte ich auf\", max_length=400)[0][\"generated_text\"]\n",
    "\n",
    "print(text)"
   ]
  },
  {
   "cell_type": "markdown",
   "metadata": {
    "id": "d9j56b5-lIIH"
   },
   "source": [
    "Auch dieses Ergebnis ist *mindestens interessant*. Der Text ist etwas unzusammenhängend und man hat das Gefühl, dass das Modell einige Wörter dann plötzlich so gut findet, dass es sie ständig wiederholt. Andererseits werden bestimmte Assoziationen (Nacht, schlafen usw.) doch ganz gut aufgenommen.\n",
    "\n",
    "Schließlich kannst du noch *einen technischen Text* ausprobieren:"
   ]
  },
  {
   "cell_type": "code",
   "execution_count": 6,
   "metadata": {
    "id": "oP1hKC1FlIIH"
   },
   "outputs": [
    {
     "name": "stderr",
     "output_type": "stream",
     "text": [
      "Setting `pad_token_id` to `eos_token_id`:50256 for open-end generation.\n"
     ]
    },
    {
     "name": "stdout",
     "output_type": "stream",
     "text": [
      "Ich experimentiere gerade mit automatischer Text-Erzeugung (Wiki).\n",
      "Auf der anderen Seite ist der Text eine Abstraktion des Originals, die in einem neuen Kontext (in dem es zu lang wird) verwendet werden kann.\n",
      "Das ist interessant zu verstehen, weil der Autor der Autor der Text ist, der die Struktur des S.E.L.S. Systems ist und dem Leser nicht immer die Möglichkeiten offenstehen, die in Textform dargestellt werden.\n",
      "Während die meisten Anwender der\n"
     ]
    }
   ],
   "source": [
    "text = pipe(\"Ich experimentiere gerade mit automatischer Text-Erzeugung\", max_length=100)[0][\"generated_text\"]\n",
    "\n",
    "print(text)"
   ]
  },
  {
   "cell_type": "markdown",
   "metadata": {
    "id": "rcyB8zNBlIII"
   },
   "source": [
    "Auch hier wurde die Richtung des Textes sehr gut aufgenommen und da System hat versucht, einen Text mit Fachbegriffen zu schreiben. Wie sinnvoll die tatsächlich sind, sei dahingestellt."
   ]
  },
  {
   "cell_type": "markdown",
   "metadata": {
    "id": "anuxab-8lIII"
   },
   "source": [
    "# Text Generation steht noch am Anfang"
   ]
  },
  {
   "cell_type": "markdown",
   "metadata": {
    "id": "RoguFfcglIIJ"
   },
   "source": [
    "Die Beispiele haben eher lustige als tatsächlich verwendbare Text produziert.\n",
    "\n",
    "Allerdings steht mit GPT-3 ein wesentlich leistungsfähigeres System zur Verfügung, mit dem schon viel bessere Resultate generiert werden können. Neue Resultate ermöglichen es außerdem, aus Texten Bilder zu erstellen, was auch schon zu guten (und teils überraschenden) Ergebnissen führt.\n",
    "\n",
    "Auf jeden Fall lohnt es sich, wenn du solche Technologien weiter beobachtest."
   ]
  }
 ],
 "metadata": {
  "accelerator": "GPU",
  "colab": {
   "name": "10-Text_Generation.ipynb",
   "provenance": []
  },
  "kernelspec": {
   "display_name": "Python 3",
   "language": "python",
   "name": "python3"
  },
  "language_info": {
   "codemirror_mode": {
    "name": "ipython",
    "version": 3
   },
   "file_extension": ".py",
   "mimetype": "text/x-python",
   "name": "python",
   "nbconvert_exporter": "python",
   "pygments_lexer": "ipython3",
   "version": "3.8.10"
  },
  "varInspector": {
   "cols": {
    "lenName": 16,
    "lenType": 16,
    "lenVar": 40
   },
   "kernels_config": {
    "python": {
     "delete_cmd_postfix": "",
     "delete_cmd_prefix": "del ",
     "library": "var_list.py",
     "varRefreshCmd": "print(var_dic_list())"
    },
    "r": {
     "delete_cmd_postfix": ") ",
     "delete_cmd_prefix": "rm(",
     "library": "var_list.r",
     "varRefreshCmd": "cat(var_dic_list()) "
    }
   },
   "types_to_exclude": [
    "module",
    "function",
    "builtin_function_or_method",
    "instance",
    "_Feature"
   ],
   "window_display": false
  }
 },
 "nbformat": 4,
 "nbformat_minor": 1
}
